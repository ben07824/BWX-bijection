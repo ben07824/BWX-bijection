{
 "cells": [
  {
   "cell_type": "markdown",
   "metadata": {},
   "source": [
    "# An implementation of a bijection of Backelin, West, and Xin"
   ]
  },
  {
   "cell_type": "markdown",
   "metadata": {},
   "source": [
    "the original paper can be found here: http://www.sciencedirect.com/science/article/pii/S0196885806000789"
   ]
  },
  {
   "cell_type": "code",
   "execution_count": 35,
   "metadata": {
    "collapsed": true
   },
   "outputs": [],
   "source": [
    "%matplotlib inline\n",
    "import itertools\n",
    "import matplotlib.pyplot as plt\n",
    "import numpy as np\n",
    "\n",
    "\n",
    "def findjt(lst,t,k):\n",
    "    white=findwhite(lst,k)\n",
    "    ret=[]\n",
    "    for i in itertools.combinations(white,t):\n",
    "        if isinstance(i,list(reversed(range(1,t+1)))):\n",
    "            ret.append(i)\n",
    "    if len(ret)>0:\n",
    "        return sorted(ret)[0]\n",
    "    else:\n",
    "        return False\n",
    "def swapjf(lst,t,k):\n",
    "    jt=findwhite(lst,t,k)\n",
    "    indexlist=list(map(lst.index,jt))\n",
    "    ret=[]\n",
    "    for i in range(len(lst)):\n",
    "        if i not in indexlist:\n",
    "            ret.append(lst[i])\n",
    "        else:\n",
    "            c=indexlist.index(i)\n",
    "            if c<len(jt)-1:\n",
    "                ret.append(jt[c+1])\n",
    "            else:\n",
    "                ret.append(jt[0])\n",
    "    return ret\n",
    "\n",
    "def genpat(t,k):\n",
    "    lst=list(reversed(range(1,t+1)))+range(t+1,k+t+1)\n",
    "    return lst\n",
    "\n",
    "def genbij2(lst,t,k):  #input=permutation (lst) avoiding [t-1...1,t+1,t+2...t+k+1] output=permutation avoiding [t,t-1,...,1,t+1,t+2...t+k]\n",
    "    while findwhite(lst,t,k)!=False:\n",
    "        lst=swapjf(lst,t,k)\n",
    "    return lst\n",
    "\n",
    "def from_monotonebij(lst,m,k): #input=permutation (lst) avoiding [1,2,...,m] output=permutation avoiding [k,k-1,...,1,k+1,...,m]\n",
    "    ret=lst\n",
    "    for i in range(2,k+1):\n",
    "        ret=genbij2(ret,i,m-i)\n",
    "    return ret\n",
    "\n",
    "def decreasingbwxbij(lst,m,k): #input=permutation avoiding [m,m-1,...1] output = permutation avoiding [m,m-1...k+1,1,2...k]\n",
    "    ret=from_monotonebij(list(reversed(lst)),m,k)\n",
    "    return list(reversed(ret))\n",
    "\n",
    "def isinstance(case,pat):\n",
    "    test=[(case[a]<case[b])==(pat[a]<pat[b]) for a in range(len(case)) for b in range(a+1,len(case))]\n",
    "    return all(test)\n",
    "\n",
    "def containspat(perm,pattern): #test to see if permutation contains pattern\n",
    "    test=[]\n",
    "    for i in itertools.combinations(perm,len(pattern)):\n",
    "        test.append(isinstance(i,pattern))\n",
    "    return any(test)\n",
    "\n",
    "def findwhite(lst,t,k):\n",
    "    ret=[]\n",
    "    for i in itertools.combinations(lst,t+k):\n",
    "        if isinstance(i,genpat(t,k)):\n",
    "            case=i[0:t]\n",
    "            if case not in ret:\n",
    "                ret.append(case)\n",
    "    if len(ret)>0:\n",
    "        return list(sorted(ret,key=lambda x: x[0]))[0]\n",
    "    else: return False\n",
    "\n",
    "\n",
    "def lrmax(lst): #find the left to right maxima of a permutation\n",
    "    a=[lst[0]]\n",
    "    for i in range(1,len(lst)):\n",
    "        if lst[i]>a[len(a)-1]:\n",
    "            a.append(lst[i])\n",
    "    return a"
   ]
  },
  {
   "cell_type": "code",
   "execution_count": 98,
   "metadata": {
    "collapsed": false
   },
   "outputs": [],
   "source": [
    "p=gen_perm(50,4) #a \"random\"-ish permutation of length 50 avoiding 4321\n"
   ]
  },
  {
   "cell_type": "code",
   "execution_count": 48,
   "metadata": {
    "collapsed": false
   },
   "outputs": [],
   "source": [
    "pval=p.values()\n",
    "p42 = decreasingbwxbij(pval,4,2) #the bijection provides a new permutation avoiding 4312\n"
   ]
  },
  {
   "cell_type": "code",
   "execution_count": 90,
   "metadata": {
    "collapsed": true
   },
   "outputs": [],
   "source": [
    "p43=decreasingbwxbij(pval,4,3) #the bijection provides a new permutation avoiding 4123"
   ]
  },
  {
   "cell_type": "code",
   "execution_count": null,
   "metadata": {
    "collapsed": false
   },
   "outputs": [],
   "source": []
  },
  {
   "cell_type": "code",
   "execution_count": 104,
   "metadata": {
    "collapsed": false
   },
   "outputs": [
    {
     "name": "stdout",
     "output_type": "stream",
     "text": [
      "False\n",
      "False\n",
      "True\n",
      "False\n",
      "True\n"
     ]
    }
   ],
   "source": [
    "print containspat(p,[4,3,2,1]) #false: by construction p avoids 4321\n",
    "print containspat(p42,[4,3,1,2]) #false: p42 is the image of p under the bijection, which maps p to a permutation avoiding 4312 \n",
    "print containspat(p42,[4,3,2,1]) # true: note that the bijection can reintroduce 4321 patterns, that p originally avoided\n",
    "print containspat(p43,[4,1,2,3]) #false: by construction p43 avoids only 4123\n",
    "print containspat(p43,[4,3,1,2]) #true: for same reasons as previous case"
   ]
  },
  {
   "cell_type": "code",
   "execution_count": 117,
   "metadata": {
    "collapsed": false,
    "scrolled": true
   },
   "outputs": [
    {
     "data": {
      "image/png": "[encoded data removed]",
      "text/plain": [
       "<matplotlib.figure.Figure at 0xcb5ba90>"
      ]
     },
     "metadata": {},
     "output_type": "display_data"
    }
   ],
   "source": [
    "from pylab import rcParams\n",
    "fig, ax = plt.subplots(1,3)\n",
    "ax[0].plot(range(len(p42)),pval,'b.')\n",
    "ax[0].set_title(\"original p (avoids 4321)\")\n",
    "ax[1].plot(range(len(p42)),p42,'b.')\n",
    "ax[1].set_title(\"transformed p (avoids 4312)\")\n",
    "ax[2].plot(range(len(p42)),p43,'b.')\n",
    "ax[2].set_title(\"transformed p (avoids 4123)\")\n",
    "rcParams['figure.figsize'] = 18, 6\n",
    "plt.show()"
   ]
  },
  {
   "cell_type": "code",
   "execution_count": 128,
   "metadata": {
    "collapsed": false
   },
   "outputs": [],
   "source": [
    "lr_max_of_p=lrmax(pval) #find the left to right max of the original permutation p\n",
    "colorlist=['red']\n",
    "for i in range(1,50):\n",
    "    if pval[i] in lr_max_of_p:\n",
    "        colorlist.append('red')\n",
    "    else:\n",
    "        colorlist.append('blue')"
   ]
  },
  {
   "cell_type": "markdown",
   "metadata": {},
   "source": [
    "Let's plot the same graph again, this time, we'll color the left to right maxima in red.  Note that at each step, the bijection preserves the left to right maxima."
   ]
  },
  {
   "cell_type": "code",
   "execution_count": 130,
   "metadata": {
    "collapsed": false
   },
   "outputs": [
    {
     "data": {
      "image/png": "[encoded data removed]",
      "text/plain": [
       "<matplotlib.figure.Figure at 0xd4f7eb8>"
      ]
     },
     "metadata": {},
     "output_type": "display_data"
    }
   ],
   "source": [
    "fig, ax = plt.subplots(1,3)\n",
    "ax[0].scatter(range(len(p42)),pval,color=colorlist)\n",
    "ax[0].set_title(\"original p (avoids 4321)\")\n",
    "ax[1].scatter(range(len(p42)),p42,color=colorlist)\n",
    "ax[1].set_title(\"transformed p (avoids 4312)\")\n",
    "ax[2].scatter(range(len(p42)),p43,color=colorlist)\n",
    "ax[2].set_title(\"transformed p (avoids 4123)\")\n",
    "rcParams['figure.figsize'] = 18, 6\n",
    "plt.show()"
   ]
  },
  {
   "cell_type": "code",
   "execution_count": 127,
   "metadata": {
    "collapsed": false
   },
   "outputs": [
    {
     "data": {
      "text/plain": [
       "[1, 4, 6, 9, 12, 13, 17, 25, 27, 29, 35, 36, 37, 40, 41, 44, 45, 48, 50]"
      ]
     },
     "execution_count": 127,
     "metadata": {},
     "output_type": "execute_result"
    }
   ],
   "source": [
    "lrmax(pval)"
   ]
  },
  {
   "cell_type": "code",
   "execution_count": null,
   "metadata": {
    "collapsed": true
   },
   "outputs": [],
   "source": []
  }
 ],
 "metadata": {
  "kernelspec": {
   "display_name": "Python 2",
   "language": "python",
   "name": "python2"
  },
  "language_info": {
   "codemirror_mode": {
    "name": "ipython",
    "version": 2
   },
   "file_extension": ".py",
   "mimetype": "text/x-python",
   "name": "python",
   "nbconvert_exporter": "python",
   "pygments_lexer": "ipython2",
   "version": "2.7.10"
  }
 },
 "nbformat": 4,
 "nbformat_minor": 0
}
